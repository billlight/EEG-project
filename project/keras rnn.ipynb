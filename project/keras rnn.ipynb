{
 "cells": [
  {
   "cell_type": "code",
   "execution_count": 1,
   "metadata": {},
   "outputs": [
    {
     "name": "stderr",
     "output_type": "stream",
     "text": [
      "Using TensorFlow backend.\n"
     ]
    }
   ],
   "source": [
    "import keras\n",
    "from keras import backend as K\n",
    "from keras.models import Model\n",
    "from keras.models import Sequential\n",
    "from keras.layers import Dense, Dropout, Activation, Flatten, ELU\n",
    "from keras.layers import Conv2D, MaxPooling2D, BatchNormalization\n",
    "from keras.layers import Input, LSTM, RepeatVector, Lambda,Bidirectional,CuDNNLSTM\n",
    "from keras import regularizers\n",
    "from keras.preprocessing.sequence import TimeseriesGenerator\n",
    "from keras import objectives\n",
    "import numpy as np\n",
    "import matplotlib.pyplot as plt\n",
    "import time\n",
    "from keras.regularizers import l2\n",
    "from keras import layers, models"
   ]
  },
  {
   "cell_type": "code",
   "execution_count": 2,
   "metadata": {},
   "outputs": [],
   "source": [
    "X_test = np.load(\"X_test.npy\")\n",
    "y_test = np.load(\"y_test.npy\")\n",
    "person_train_valid = np.load(\"person_train_valid.npy\")\n",
    "X_train_valid = np.load(\"X_train_valid.npy\")\n",
    "y_train_valid = np.load(\"y_train_valid.npy\")\n",
    "person_test = np.load(\"person_test.npy\")"
   ]
  },
  {
   "cell_type": "code",
   "execution_count": 3,
   "metadata": {},
   "outputs": [
    {
     "name": "stdout",
     "output_type": "stream",
     "text": [
      "Training/Valid data shape: (2115, 22, 1000)\n",
      "Test data shape: (443, 22, 1000)\n",
      "Training/Valid target shape: (2115,)\n",
      "Test target shape: (443,)\n",
      "Person train/valid shape: (2115, 1)\n",
      "Person test shape: (443, 1)\n"
     ]
    }
   ],
   "source": [
    "print ('Training/Valid data shape: {}'.format(X_train_valid.shape))\n",
    "print ('Test data shape: {}'.format(X_test.shape))\n",
    "print ('Training/Valid target shape: {}'.format(y_train_valid.shape))\n",
    "print ('Test target shape: {}'.format(y_test.shape))\n",
    "print ('Person train/valid shape: {}'.format(person_train_valid.shape))\n",
    "print ('Person test shape: {}'.format(person_test.shape))"
   ]
  },
  {
   "cell_type": "code",
   "execution_count": 4,
   "metadata": {},
   "outputs": [],
   "source": [
    "y_train_valid -= 769\n",
    "y_test = y_test-769"
   ]
  },
  {
   "cell_type": "code",
   "execution_count": 5,
   "metadata": {},
   "outputs": [],
   "source": [
    "def rnn(input_shape):\n",
    "    model = Sequential()\n",
    "\n",
    "    model.add(Bidirectional(LSTM(64, recurrent_dropout=0.25, return_sequences=True,input_shape=input_shape, kernel_regularizer=l2(0.01), recurrent_regularizer=l2(0.01), bias_regularizer=l2(0.01))))    \n",
    "    model.add(BatchNormalization())\n",
    "    model.add(Dropout(0.5))\n",
    "    model.add(Bidirectional(LSTM(64, recurrent_dropout=0.25, return_sequences=True,input_shape=input_shape, kernel_regularizer=l2(0.01), recurrent_regularizer=l2(0.01), bias_regularizer=l2(0.01))))    \n",
    "    model.add(BatchNormalization())\n",
    "    model.add(Flatten())\n",
    "    model.add(Dropout(0.5))    \n",
    "    model.add(Dense(32,activation='elu'))\n",
    "    model.add(Dropout(0.5))    \n",
    "    model.add(Dense(4, activation='softmax', kernel_regularizer=regularizers.l2(0.02)))    \n",
    "    opt = keras.optimizers.Adam(lr=0.001, beta_1=0.9, beta_2=0.999)\n",
    "    model.compile(loss='categorical_crossentropy',optimizer=opt,metrics=['acc'])\n",
    "    return model\n"
   ]
  },
  {
   "cell_type": "code",
   "execution_count": 6,
   "metadata": {},
   "outputs": [],
   "source": [
    "def train(model, x_train, y_train, x_test, y_test):\n",
    "    history = model.fit(x_train,y_train,batch_size=50,epochs=30,shuffle=True,validation_split = 0.2)\n",
    "    plt.plot(history.history['acc'])\n",
    "    plt.plot(history.history['val_acc'])\n",
    "    plt.title('model accuracy')\n",
    "    plt.ylabel('accuracy')\n",
    "    plt.xlabel('epoch')\n",
    "    plt.legend(['train', 'test'], loc='upper left')\n",
    "    plt.show()\n",
    "\n",
    "    plt.plot(history.history['loss'])\n",
    "    plt.plot(history.history['val_loss'])\n",
    "    plt.title('model loss')\n",
    "    plt.ylabel('loss')\n",
    "    plt.xlabel('epoch')\n",
    "    plt.legend(['train', 'test'], loc='upper left')\n",
    "    plt.show()\n",
    "    \n",
    "    return model"
   ]
  },
  {
   "cell_type": "code",
   "execution_count": 7,
   "metadata": {},
   "outputs": [],
   "source": [
    "def predict(model,x_test,y_test):\n",
    "    y_pred = model.predict(x_test)\n",
    "    confusion_matrix = np.zeros((4, 4))\n",
    "    accuracy = 0\n",
    "    for i in range(y_pred.shape[0]):\n",
    "        label_true = np.argmax(y_test[i])\n",
    "        label_pred = np.argmax(y_pred[i])\n",
    "        confusion_matrix[label_true, label_pred] += 1\n",
    "        if label_true == label_pred:\n",
    "            accuracy += 1\n",
    "    accuracy /= x_test.shape[0]\n",
    "    return accuracy,confusion_matrix"
   ]
  },
  {
   "cell_type": "code",
   "execution_count": 8,
   "metadata": {},
   "outputs": [
    {
     "name": "stdout",
     "output_type": "stream",
     "text": [
      "windows number: 199\n"
     ]
    }
   ],
   "source": [
    "# Sliding windows on original data\n",
    "window_length = 10\n",
    "hop_length = 5\n",
    "n_windows =(1000-window_length) // hop_length + 1 \n",
    "\n",
    "print(\"windows number:\", n_windows)"
   ]
  },
  {
   "cell_type": "code",
   "execution_count": 9,
   "metadata": {},
   "outputs": [],
   "source": [
    "def sliding(data): #by default data's dimesnion is 3\n",
    "    data_new = np.zeros((data.shape[0],n_windows,window_length*22)) #local variable\n",
    "    for i in range(data.shape[0]):\n",
    "        raw = data[i].transpose(1,0)\n",
    "        for j in range(n_windows):\n",
    "            data_new[i,j] = raw[j*hop_length:j*hop_length+window_length].flatten()\n",
    "    return data_new\n"
   ]
  },
  {
   "cell_type": "code",
   "execution_count": 11,
   "metadata": {},
   "outputs": [
    {
     "name": "stdout",
     "output_type": "stream",
     "text": [
      "x training shape after sliding: (2115, 199, 220)\n"
     ]
    }
   ],
   "source": [
    "x_train = X_train_valid[:,:22,:].astype('float32')\n",
    "x_test = X_test[:,:22,:].astype('float32')\n",
    "y_train = y_train_valid\n",
    "y_test = y_test\n",
    "x_train = sliding(x_train)\n",
    "x_test = sliding(x_test)\n",
    "\n",
    "print(\"x training shape after sliding:\",x_train.shape)"
   ]
  },
  {
   "cell_type": "code",
   "execution_count": 12,
   "metadata": {},
   "outputs": [
    {
     "name": "stdout",
     "output_type": "stream",
     "text": [
      "Train on 1692 samples, validate on 423 samples\n",
      "Epoch 1/30\n",
      "1692/1692 [==============================] - 15s 9ms/step - loss: 15.3681 - acc: 0.2831 - val_loss: 13.6143 - val_acc: 0.3428\n",
      "Epoch 2/30\n",
      "1692/1692 [==============================] - 14s 8ms/step - loss: 13.4278 - acc: 0.3735 - val_loss: 12.5042 - val_acc: 0.2931\n",
      "Epoch 3/30\n",
      "1692/1692 [==============================] - 14s 8ms/step - loss: 12.1887 - acc: 0.3942 - val_loss: 11.4408 - val_acc: 0.3522\n",
      "Epoch 4/30\n",
      "1692/1692 [==============================] - 14s 8ms/step - loss: 11.0540 - acc: 0.4657 - val_loss: 10.5892 - val_acc: 0.3783\n",
      "Epoch 5/30\n",
      "1692/1692 [==============================] - 14s 8ms/step - loss: 10.1358 - acc: 0.4770 - val_loss: 9.9230 - val_acc: 0.3239\n",
      "Epoch 6/30\n",
      "1692/1692 [==============================] - 14s 8ms/step - loss: 9.4145 - acc: 0.5035 - val_loss: 9.2375 - val_acc: 0.3641\n",
      "Epoch 7/30\n",
      "1692/1692 [==============================] - 14s 8ms/step - loss: 8.6720 - acc: 0.5656 - val_loss: 8.7092 - val_acc: 0.3853\n",
      "Epoch 8/30\n",
      "1692/1692 [==============================] - 14s 8ms/step - loss: 8.0771 - acc: 0.5780 - val_loss: 8.1536 - val_acc: 0.4232\n",
      "Epoch 9/30\n",
      "1692/1692 [==============================] - 14s 8ms/step - loss: 7.5687 - acc: 0.5851 - val_loss: 7.7049 - val_acc: 0.4113\n",
      "Epoch 10/30\n",
      "1692/1692 [==============================] - 14s 8ms/step - loss: 7.0848 - acc: 0.6040 - val_loss: 7.3227 - val_acc: 0.4043\n",
      "Epoch 11/30\n",
      "1692/1692 [==============================] - 14s 8ms/step - loss: 6.5604 - acc: 0.6572 - val_loss: 7.0267 - val_acc: 0.3830\n",
      "Epoch 12/30\n",
      "1692/1692 [==============================] - 14s 8ms/step - loss: 6.1224 - acc: 0.6820 - val_loss: 6.6576 - val_acc: 0.4113\n",
      "Epoch 13/30\n",
      "1692/1692 [==============================] - 14s 9ms/step - loss: 5.7660 - acc: 0.6820 - val_loss: 6.2651 - val_acc: 0.4255\n",
      "Epoch 14/30\n",
      "1692/1692 [==============================] - 16s 9ms/step - loss: 5.4200 - acc: 0.6903 - val_loss: 5.9568 - val_acc: 0.4681\n",
      "Epoch 15/30\n",
      "1692/1692 [==============================] - 16s 10ms/step - loss: 5.1094 - acc: 0.7134 - val_loss: 5.7719 - val_acc: 0.4468\n",
      "Epoch 16/30\n",
      "1692/1692 [==============================] - 15s 9ms/step - loss: 4.7920 - acc: 0.7139 - val_loss: 5.4568 - val_acc: 0.4681\n",
      "Epoch 17/30\n",
      "1692/1692 [==============================] - 15s 9ms/step - loss: 4.5236 - acc: 0.7287 - val_loss: 5.3099 - val_acc: 0.4208\n",
      "Epoch 18/30\n",
      "1692/1692 [==============================] - 15s 9ms/step - loss: 4.2650 - acc: 0.7482 - val_loss: 5.0743 - val_acc: 0.4681\n",
      "Epoch 19/30\n",
      "1692/1692 [==============================] - 14s 9ms/step - loss: 3.9909 - acc: 0.7713 - val_loss: 4.9271 - val_acc: 0.4421\n",
      "Epoch 20/30\n",
      "1692/1692 [==============================] - 14s 8ms/step - loss: 3.7963 - acc: 0.7861 - val_loss: 4.8640 - val_acc: 0.4255\n",
      "Epoch 21/30\n",
      "1692/1692 [==============================] - 14s 8ms/step - loss: 3.5805 - acc: 0.7813 - val_loss: 4.7801 - val_acc: 0.4137\n",
      "Epoch 22/30\n",
      "1692/1692 [==============================] - 14s 8ms/step - loss: 3.4084 - acc: 0.7807 - val_loss: 4.6445 - val_acc: 0.3806\n",
      "Epoch 23/30\n",
      "1692/1692 [==============================] - 14s 8ms/step - loss: 3.2142 - acc: 0.7991 - val_loss: 4.5096 - val_acc: 0.3948\n",
      "Epoch 24/30\n",
      "1692/1692 [==============================] - 14s 9ms/step - loss: 3.0285 - acc: 0.8085 - val_loss: 4.2977 - val_acc: 0.4279\n",
      "Epoch 25/30\n",
      "1692/1692 [==============================] - 14s 9ms/step - loss: 2.9023 - acc: 0.7985 - val_loss: 4.1057 - val_acc: 0.4326\n",
      "Epoch 26/30\n",
      "1692/1692 [==============================] - 14s 8ms/step - loss: 2.8130 - acc: 0.7943 - val_loss: 3.8741 - val_acc: 0.4634\n",
      "Epoch 27/30\n",
      "1692/1692 [==============================] - 14s 8ms/step - loss: 2.6438 - acc: 0.8233 - val_loss: 3.8239 - val_acc: 0.4492\n",
      "Epoch 28/30\n",
      "1692/1692 [==============================] - 14s 8ms/step - loss: 2.5555 - acc: 0.8061 - val_loss: 3.6041 - val_acc: 0.4681\n",
      "Epoch 29/30\n",
      "1692/1692 [==============================] - 15s 9ms/step - loss: 2.4239 - acc: 0.8245 - val_loss: 3.8827 - val_acc: 0.4208\n",
      "Epoch 30/30\n",
      "1692/1692 [==============================] - 14s 8ms/step - loss: 2.3631 - acc: 0.8085 - val_loss: 3.5857 - val_acc: 0.4161\n"
     ]
    },
    {
     "data": {
      "image/png": "[encoded data removed]",
      "text/plain": [
       "<Figure size 432x288 with 1 Axes>"
      ]
     },
     "metadata": {
      "needs_background": "light"
     },
     "output_type": "display_data"
    },
    {
     "data": {
      "image/png": "[encoded data removed]",
      "text/plain": [
       "<Figure size 432x288 with 1 Axes>"
      ]
     },
     "metadata": {
      "needs_background": "light"
     },
     "output_type": "display_data"
    },
    {
     "name": "stdout",
     "output_type": "stream",
     "text": [
      "0.4672686230248307\n",
      "Model: \"sequential_1\"\n",
      "_________________________________________________________________\n",
      "Layer (type)                 Output Shape              Param #   \n",
      "=================================================================\n",
      "bidirectional_1 (Bidirection (None, 199, 128)          145920    \n",
      "_________________________________________________________________\n",
      "batch_normalization_1 (Batch (None, 199, 128)          512       \n",
      "_________________________________________________________________\n",
      "dropout_1 (Dropout)          (None, 199, 128)          0         \n",
      "_________________________________________________________________\n",
      "bidirectional_2 (Bidirection (None, 199, 128)          98816     \n",
      "_________________________________________________________________\n",
      "batch_normalization_2 (Batch (None, 199, 128)          512       \n",
      "_________________________________________________________________\n",
      "flatten_1 (Flatten)          (None, 25472)             0         \n",
      "_________________________________________________________________\n",
      "dropout_2 (Dropout)          (None, 25472)             0         \n",
      "_________________________________________________________________\n",
      "dense_1 (Dense)              (None, 32)                815136    \n",
      "_________________________________________________________________\n",
      "dropout_3 (Dropout)          (None, 32)                0         \n",
      "_________________________________________________________________\n",
      "dense_2 (Dense)              (None, 4)                 132       \n",
      "=================================================================\n",
      "Total params: 1,061,028\n",
      "Trainable params: 1,060,516\n",
      "Non-trainable params: 512\n",
      "_________________________________________________________________\n"
     ]
    }
   ],
   "source": [
    "def RNN(x_train,y_train,x_test,y_test):\n",
    "    train_example = x_train\n",
    "    test_example = x_test\n",
    "    train_target = keras.utils.to_categorical(y_train, 4)\n",
    "    test_target = keras.utils.to_categorical(y_test, 4)\n",
    "    \n",
    "    model = rnn(train_example[0].shape)\n",
    "    model = train(model,train_example,train_target,test_example,test_target)\n",
    "    acc,c_matrix = predict(model,test_example,test_target)\n",
    "    print(acc)\n",
    "    model.summary()\n",
    "    return acc\n",
    "\n",
    "acc = RNN(x_train,y_train,x_test,y_test)"
   ]
  },
  {
   "cell_type": "code",
   "execution_count": null,
   "metadata": {},
   "outputs": [],
   "source": []
  },
  {
   "cell_type": "code",
   "execution_count": null,
   "metadata": {},
   "outputs": [],
   "source": []
  },
  {
   "cell_type": "code",
   "execution_count": null,
   "metadata": {},
   "outputs": [],
   "source": []
  },
  {
   "cell_type": "code",
   "execution_count": null,
   "metadata": {},
   "outputs": [],
   "source": []
  },
  {
   "cell_type": "code",
   "execution_count": null,
   "metadata": {},
   "outputs": [],
   "source": []
  },
  {
   "cell_type": "code",
   "execution_count": null,
   "metadata": {},
   "outputs": [],
   "source": []
  },
  {
   "cell_type": "code",
   "execution_count": null,
   "metadata": {},
   "outputs": [],
   "source": []
  }
 ],
 "metadata": {
  "kernelspec": {
   "display_name": "Python 3",
   "language": "python",
   "name": "python3"
  },
  "language_info": {
   "codemirror_mode": {
    "name": "ipython",
    "version": 3
   },
   "file_extension": ".py",
   "mimetype": "text/x-python",
   "name": "python",
   "nbconvert_exporter": "python",
   "pygments_lexer": "ipython3",
   "version": "3.7.3"
  }
 },
 "nbformat": 4,
 "nbformat_minor": 2
}
