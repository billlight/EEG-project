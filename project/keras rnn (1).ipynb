{
 "cells": [
  {
   "cell_type": "code",
   "execution_count": 1,
   "metadata": {},
   "outputs": [],
   "source": [
    "import numpy as np\n",
    "import matplotlib.pyplot as plt\n",
    "import time"
   ]
  },
  {
   "cell_type": "code",
   "execution_count": 2,
   "metadata": {},
   "outputs": [],
   "source": [
    "X_test = np.load(\"X_test.npy\")\n",
    "y_test = np.load(\"y_test.npy\")\n",
    "person_train_valid = np.load(\"person_train_valid.npy\")\n",
    "X_train_valid = np.load(\"X_train_valid.npy\")\n",
    "y_train_valid = np.load(\"y_train_valid.npy\")\n",
    "person_test = np.load(\"person_test.npy\")"
   ]
  },
  {
   "cell_type": "markdown",
   "metadata": {},
   "source": [
    "### Shape of data"
   ]
  },
  {
   "cell_type": "code",
   "execution_count": 3,
   "metadata": {},
   "outputs": [
    {
     "name": "stdout",
     "output_type": "stream",
     "text": [
      "Training/Valid data shape: (2115, 22, 1000)\n",
      "Test data shape: (443, 22, 1000)\n",
      "Training/Valid target shape: (2115,)\n",
      "Test target shape: (443,)\n",
      "Person train/valid shape: (2115, 1)\n",
      "Person test shape: (443, 1)\n"
     ]
    }
   ],
   "source": [
    "print ('Training/Valid data shape: {}'.format(X_train_valid.shape))\n",
    "print ('Test data shape: {}'.format(X_test.shape))\n",
    "print ('Training/Valid target shape: {}'.format(y_train_valid.shape))\n",
    "print ('Test target shape: {}'.format(y_test.shape))\n",
    "print ('Person train/valid shape: {}'.format(person_train_valid.shape))\n",
    "print ('Person test shape: {}'.format(person_test.shape))"
   ]
  },
  {
   "cell_type": "code",
   "execution_count": 4,
   "metadata": {},
   "outputs": [],
   "source": [
    "y_train_valid -= 769\n",
    "y_test -= 769"
   ]
  },
  {
   "cell_type": "code",
   "execution_count": 5,
   "metadata": {},
   "outputs": [],
   "source": [
    "perm = np.random.permutation(X_train_valid.shape[0])\n",
    "numTrain = int(0.8*X_train_valid.shape[0])\n",
    "numVal = X_train_valid.shape[0] - numTrain\n",
    "Xtrain = X_train_valid[perm[0:numTrain]]\n",
    "ytrain = y_train_valid[perm[0:numTrain]]\n",
    "Xval = X_train_valid[perm[numTrain: ]]\n",
    "yval = y_train_valid[perm[numTrain: ]]"
   ]
  },
  {
   "cell_type": "code",
   "execution_count": 6,
   "metadata": {},
   "outputs": [
    {
     "data": {
      "text/plain": [
       "(1692, 22, 1000)"
      ]
     },
     "execution_count": 6,
     "metadata": {},
     "output_type": "execute_result"
    }
   ],
   "source": [
    "Xtrain.shape"
   ]
  },
  {
   "cell_type": "code",
   "execution_count": 7,
   "metadata": {},
   "outputs": [
    {
     "name": "stderr",
     "output_type": "stream",
     "text": [
      "Using TensorFlow backend.\n"
     ]
    }
   ],
   "source": [
    "import keras\n",
    "from keras import backend as K\n",
    "from keras.models import Model\n",
    "from keras.models import Sequential\n",
    "from keras.layers import Dense, Dropout, Activation, Flatten, ELU\n",
    "from keras.layers import Conv2D, MaxPooling2D, BatchNormalization\n",
    "from keras.layers import Input, LSTM, RepeatVector, Lambda,Bidirectional,CuDNNLSTM\n",
    "from keras import regularizers\n",
    "from keras.preprocessing.sequence import TimeseriesGenerator\n",
    "from keras import objectives\n",
    "import numpy as np\n",
    "import matplotlib.pyplot as plt\n",
    "import time\n",
    "from keras.regularizers import l2\n",
    "from keras import layers, models"
   ]
  },
  {
   "cell_type": "code",
   "execution_count": 8,
   "metadata": {},
   "outputs": [],
   "source": [
    "hidden_dim = 20"
   ]
  },
  {
   "cell_type": "code",
   "execution_count": 9,
   "metadata": {},
   "outputs": [],
   "source": [
    "input_shape=(22, 1000)\n",
    "model = models.Sequential()\n",
    "model.add(layers.Permute((2, 1), input_shape=input_shape))\n",
    "model.add(Bidirectional(LSTM(256, recurrent_dropout=0.25, kernel_regularizer=regularizers.l2(0.01), input_shape=input_shape, return_sequences=True)))\n",
    "model.add(BatchNormalization())\n",
    "\n",
    "#model.add(Bidirectional(LSTM(256, recurrent_dropout=0.25, kernel_regularizer=regularizers.l2(0.01), input_shape=input_shape, return_sequences=True)))\n",
    "#model.add(BatchNormalization())\n",
    "model.add(Dropout(0.5))\n",
    "model.add(Dense(128,activation='elu'))\n",
    "model.add(Dropout(0.5))\n",
    "model.add(layers.SimpleRNN(hidden_dim))\n",
    "model.add(layers.Dense(4, activation='softmax'))\n",
    "model.compile('adam', 'sparse_categorical_crossentropy', metrics=['acc'])"
   ]
  },
  {
   "cell_type": "code",
   "execution_count": 10,
   "metadata": {},
   "outputs": [
    {
     "name": "stdout",
     "output_type": "stream",
     "text": [
      "Model: \"sequential_1\"\n",
      "_________________________________________________________________\n",
      "Layer (type)                 Output Shape              Param #   \n",
      "=================================================================\n",
      "permute_1 (Permute)          (None, 1000, 22)          0         \n",
      "_________________________________________________________________\n",
      "bidirectional_1 (Bidirection (None, 1000, 512)         571392    \n",
      "_________________________________________________________________\n",
      "batch_normalization_1 (Batch (None, 1000, 512)         2048      \n",
      "_________________________________________________________________\n",
      "dropout_1 (Dropout)          (None, 1000, 512)         0         \n",
      "_________________________________________________________________\n",
      "dense_1 (Dense)              (None, 1000, 128)         65664     \n",
      "_________________________________________________________________\n",
      "dropout_2 (Dropout)          (None, 1000, 128)         0         \n",
      "_________________________________________________________________\n",
      "simple_rnn_1 (SimpleRNN)     (None, 20)                2980      \n",
      "_________________________________________________________________\n",
      "dense_2 (Dense)              (None, 4)                 84        \n",
      "=================================================================\n",
      "Total params: 642,168\n",
      "Trainable params: 641,144\n",
      "Non-trainable params: 1,024\n",
      "_________________________________________________________________\n"
     ]
    }
   ],
   "source": [
    "model.summary()"
   ]
  },
  {
   "cell_type": "code",
   "execution_count": 11,
   "metadata": {},
   "outputs": [
    {
     "name": "stdout",
     "output_type": "stream",
     "text": [
      "Train on 1692 samples, validate on 423 samples\n",
      "Epoch 1/30\n",
      "1692/1692 [==============================] - 163s 96ms/step - loss: 2.4988 - acc: 0.2447 - val_loss: 2.2945 - val_acc: 0.2435\n",
      "Epoch 2/30\n",
      "1692/1692 [==============================] - 161s 95ms/step - loss: 2.2719 - acc: 0.2606 - val_loss: 2.1373 - val_acc: 0.2742\n",
      "Epoch 3/30\n",
      "1692/1692 [==============================] - 163s 97ms/step - loss: 2.1213 - acc: 0.2766 - val_loss: 2.0460 - val_acc: 0.2553\n",
      "Epoch 4/30\n",
      "1692/1692 [==============================] - 165s 98ms/step - loss: 2.0269 - acc: 0.2689 - val_loss: 1.9707 - val_acc: 0.2671\n",
      "Epoch 5/30\n",
      "1692/1692 [==============================] - 168s 99ms/step - loss: 1.9390 - acc: 0.2884 - val_loss: 1.9141 - val_acc: 0.2482\n",
      "Epoch 6/30\n",
      "1692/1692 [==============================] - 167s 98ms/step - loss: 1.8695 - acc: 0.2914 - val_loss: 1.8697 - val_acc: 0.2600\n",
      "Epoch 7/30\n",
      "1692/1692 [==============================] - 166s 98ms/step - loss: 1.8202 - acc: 0.2819 - val_loss: 1.8043 - val_acc: 0.2246\n",
      "Epoch 8/30\n",
      "1692/1692 [==============================] - 168s 99ms/step - loss: 1.7635 - acc: 0.2825 - val_loss: 1.7757 - val_acc: 0.2411\n",
      "Epoch 9/30\n",
      "1692/1692 [==============================] - 168s 99ms/step - loss: 1.7306 - acc: 0.2902 - val_loss: 1.7222 - val_acc: 0.2411\n",
      "Epoch 10/30\n",
      "1692/1692 [==============================] - 169s 100ms/step - loss: 1.6834 - acc: 0.2955 - val_loss: 1.6822 - val_acc: 0.2813\n",
      "Epoch 11/30\n",
      "1692/1692 [==============================] - 170s 100ms/step - loss: 1.6576 - acc: 0.3002 - val_loss: 1.6426 - val_acc: 0.2624\n",
      "Epoch 12/30\n",
      "1692/1692 [==============================] - 171s 101ms/step - loss: 1.6260 - acc: 0.2967 - val_loss: 1.6373 - val_acc: 0.2695\n",
      "Epoch 13/30\n",
      "1692/1692 [==============================] - 171s 101ms/step - loss: 1.6183 - acc: 0.2819 - val_loss: 1.6162 - val_acc: 0.2317\n",
      "Epoch 14/30\n",
      "1692/1692 [==============================] - 172s 102ms/step - loss: 1.5878 - acc: 0.2884 - val_loss: 1.5999 - val_acc: 0.2719\n",
      "Epoch 15/30\n",
      "1692/1692 [==============================] - 173s 102ms/step - loss: 1.5786 - acc: 0.2843 - val_loss: 1.5993 - val_acc: 0.2435\n",
      "Epoch 16/30\n",
      "1692/1692 [==============================] - 173s 102ms/step - loss: 1.5573 - acc: 0.3121 - val_loss: 1.5801 - val_acc: 0.2671\n",
      "Epoch 17/30\n",
      "1692/1692 [==============================] - 174s 103ms/step - loss: 1.5318 - acc: 0.3245 - val_loss: 1.5612 - val_acc: 0.2530\n",
      "Epoch 18/30\n",
      "1692/1692 [==============================] - 174s 103ms/step - loss: 1.5343 - acc: 0.2931 - val_loss: 1.5579 - val_acc: 0.2600\n",
      "Epoch 19/30\n",
      "1692/1692 [==============================] - 174s 103ms/step - loss: 1.5116 - acc: 0.3061 - val_loss: 1.5682 - val_acc: 0.2506\n",
      "Epoch 20/30\n",
      "1692/1692 [==============================] - 174s 103ms/step - loss: 1.5141 - acc: 0.2914 - val_loss: 1.5481 - val_acc: 0.2459\n",
      "Epoch 21/30\n",
      "1692/1692 [==============================] - 175s 103ms/step - loss: 1.5046 - acc: 0.2955 - val_loss: 1.5243 - val_acc: 0.2695\n",
      "Epoch 22/30\n",
      "1692/1692 [==============================] - 176s 104ms/step - loss: 1.4856 - acc: 0.3061 - val_loss: 1.5097 - val_acc: 0.2979\n",
      "Epoch 23/30\n",
      "1692/1692 [==============================] - 178s 105ms/step - loss: 1.4866 - acc: 0.3032 - val_loss: 1.5104 - val_acc: 0.2340\n",
      "Epoch 24/30\n",
      "1692/1692 [==============================] - 177s 105ms/step - loss: 1.4759 - acc: 0.2979 - val_loss: 1.4928 - val_acc: 0.2506\n",
      "Epoch 25/30\n",
      "1692/1692 [==============================] - 177s 105ms/step - loss: 1.4729 - acc: 0.2973 - val_loss: 1.5052 - val_acc: 0.2340\n",
      "Epoch 26/30\n",
      "1692/1692 [==============================] - 178s 105ms/step - loss: 1.4653 - acc: 0.3103 - val_loss: 1.5000 - val_acc: 0.2742\n",
      "Epoch 27/30\n",
      "1692/1692 [==============================] - 178s 105ms/step - loss: 1.4615 - acc: 0.3044 - val_loss: 1.4891 - val_acc: 0.2790\n",
      "Epoch 28/30\n",
      "1692/1692 [==============================] - 179s 105ms/step - loss: 1.4694 - acc: 0.2849 - val_loss: 1.5028 - val_acc: 0.2506\n",
      "Epoch 29/30\n",
      "1692/1692 [==============================] - 177s 105ms/step - loss: 1.4656 - acc: 0.2931 - val_loss: 1.5042 - val_acc: 0.2435\n",
      "Epoch 30/30\n",
      "1692/1692 [==============================] - 178s 105ms/step - loss: 1.4558 - acc: 0.3156 - val_loss: 1.5083 - val_acc: 0.2600\n"
     ]
    },
    {
     "data": {
      "text/plain": [
       "<matplotlib.legend.Legend at 0x14ea14fd0>"
      ]
     },
     "execution_count": 11,
     "metadata": {},
     "output_type": "execute_result"
    },
    {
     "data": {
      "image/png": "[encoded data removed]",
      "text/plain": [
       "<Figure size 1080x504 with 2 Axes>"
      ]
     },
     "metadata": {
      "needs_background": "light"
     },
     "output_type": "display_data"
    }
   ],
   "source": [
    "loss_hist = model.fit(Xtrain, ytrain, validation_data=(Xval, yval), epochs=30)\n",
    "type(loss_hist)\n",
    "hist = loss_hist.history\n",
    "list(hist)\n",
    "plt.figure(figsize=(15, 7))\n",
    "plt.subplot(1, 2, 1)\n",
    "plt.plot(hist['acc'])\n",
    "plt.plot(hist['val_acc'])\n",
    "plt.ylabel('acc')\n",
    "plt.xlabel('epoch')\n",
    "plt.legend(['train', 'val'])\n",
    "\n",
    "plt.subplot(1, 2, 2)\n",
    "plt.plot(hist['loss'])\n",
    "plt.plot(hist['val_loss'])\n",
    "plt.ylabel('loss')\n",
    "plt.xlabel('epoch')\n",
    "plt.legend(['train', 'val'])"
   ]
  },
  {
   "cell_type": "code",
   "execution_count": null,
   "metadata": {},
   "outputs": [],
   "source": []
  },
  {
   "cell_type": "code",
   "execution_count": null,
   "metadata": {},
   "outputs": [],
   "source": []
  },
  {
   "cell_type": "code",
   "execution_count": null,
   "metadata": {},
   "outputs": [],
   "source": []
  },
  {
   "cell_type": "code",
   "execution_count": null,
   "metadata": {},
   "outputs": [],
   "source": []
  },
  {
   "cell_type": "code",
   "execution_count": null,
   "metadata": {},
   "outputs": [],
   "source": []
  },
  {
   "cell_type": "code",
   "execution_count": null,
   "metadata": {},
   "outputs": [],
   "source": []
  }
 ],
 "metadata": {
  "kernelspec": {
   "display_name": "Python 3",
   "language": "python",
   "name": "python3"
  },
  "language_info": {
   "codemirror_mode": {
    "name": "ipython",
    "version": 3
   },
   "file_extension": ".py",
   "mimetype": "text/x-python",
   "name": "python",
   "nbconvert_exporter": "python",
   "pygments_lexer": "ipython3",
   "version": "3.7.3"
  }
 },
 "nbformat": 4,
 "nbformat_minor": 2
}
