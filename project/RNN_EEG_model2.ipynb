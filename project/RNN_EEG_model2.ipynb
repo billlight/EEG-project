{
 "cells": [
  {
   "cell_type": "code",
   "execution_count": 1,
   "metadata": {},
   "outputs": [
    {
     "name": "stderr",
     "output_type": "stream",
     "text": [
      "Using TensorFlow backend.\n"
     ]
    }
   ],
   "source": [
    "#without recurrent dropout but with sliding\n",
    "import keras\n",
    "from keras import backend as K\n",
    "from keras.models import Model\n",
    "from keras.models import Sequential\n",
    "from keras.layers import Dense, Dropout, Activation, Flatten, ELU\n",
    "from keras.layers import Conv2D, MaxPooling2D, BatchNormalization\n",
    "from keras.layers import Input, LSTM, RepeatVector, Lambda,Bidirectional,CuDNNLSTM\n",
    "from keras import regularizers\n",
    "from keras.preprocessing.sequence import TimeseriesGenerator\n",
    "from keras import objectives\n",
    "import numpy as np\n",
    "import matplotlib.pyplot as plt\n",
    "import time\n",
    "from keras.regularizers import l2\n",
    "from keras import layers, models"
   ]
  },
  {
   "cell_type": "code",
   "execution_count": 2,
   "metadata": {},
   "outputs": [],
   "source": [
    "X_test = np.load(\"X_test.npy\")\n",
    "y_test = np.load(\"y_test.npy\")\n",
    "person_train_valid = np.load(\"person_train_valid.npy\")\n",
    "X_train_valid = np.load(\"X_train_valid.npy\")\n",
    "y_train_valid = np.load(\"y_train_valid.npy\")\n",
    "person_test = np.load(\"person_test.npy\")"
   ]
  },
  {
   "cell_type": "code",
   "execution_count": 3,
   "metadata": {},
   "outputs": [
    {
     "name": "stdout",
     "output_type": "stream",
     "text": [
      "Training/Valid data shape: (2115, 22, 1000)\n",
      "Test data shape: (443, 22, 1000)\n",
      "Training/Valid target shape: (2115,)\n",
      "Test target shape: (443,)\n",
      "Person train/valid shape: (2115, 1)\n",
      "Person test shape: (443, 1)\n"
     ]
    }
   ],
   "source": [
    "print ('Training/Valid data shape: {}'.format(X_train_valid.shape))\n",
    "print ('Test data shape: {}'.format(X_test.shape))\n",
    "print ('Training/Valid target shape: {}'.format(y_train_valid.shape))\n",
    "print ('Test target shape: {}'.format(y_test.shape))\n",
    "print ('Person train/valid shape: {}'.format(person_train_valid.shape))\n",
    "print ('Person test shape: {}'.format(person_test.shape))"
   ]
  },
  {
   "cell_type": "code",
   "execution_count": 4,
   "metadata": {},
   "outputs": [],
   "source": [
    "y_train_valid -= 769\n",
    "y_test = y_test-769"
   ]
  },
  {
   "cell_type": "code",
   "execution_count": 5,
   "metadata": {},
   "outputs": [],
   "source": [
    "def rnn(input_shape):\n",
    "    model = Sequential()\n",
    "    model.add(Bidirectional(LSTM(128, return_sequences=True,input_shape=input_shape, kernel_regularizer=l2(0.01), recurrent_regularizer=l2(0.01), bias_regularizer=l2(0.01))))    \n",
    "    model.add(BatchNormalization())\n",
    "    model.add(Dropout(0.5))\n",
    "    model.add(Flatten())   \n",
    "    model.add(Dense(32,activation='elu'))\n",
    "    model.add(Dropout(0.5))    \n",
    "    model.add(Dense(4, activation='softmax', kernel_regularizer=regularizers.l2(0.02)))    \n",
    "    opt = keras.optimizers.Adam(lr=0.001, beta_1=0.9, beta_2=0.999)\n",
    "    model.compile(loss='categorical_crossentropy',optimizer=opt,metrics=['acc'])\n",
    "    return model"
   ]
  },
  {
   "cell_type": "code",
   "execution_count": 6,
   "metadata": {},
   "outputs": [],
   "source": [
    "def train(model, x_train, y_train, x_test, y_test):\n",
    "    history = model.fit(x_train,y_train,batch_size=50,epochs=100,shuffle=True,validation_split = 0.2)\n",
    "    plt.plot(history.history['acc'])\n",
    "    plt.plot(history.history['val_acc'])\n",
    "    plt.title('model accuracy')\n",
    "    plt.ylabel('accuracy')\n",
    "    plt.xlabel('epoch')\n",
    "    plt.legend(['train', 'test'], loc='upper left')\n",
    "    plt.show()\n",
    "\n",
    "    plt.plot(history.history['loss'])\n",
    "    plt.plot(history.history['val_loss'])\n",
    "    plt.title('model loss')\n",
    "    plt.ylabel('loss')\n",
    "    plt.xlabel('epoch')\n",
    "    plt.legend(['train', 'test'], loc='upper left')\n",
    "    plt.show()\n",
    "    \n",
    "    return model"
   ]
  },
  {
   "cell_type": "code",
   "execution_count": 7,
   "metadata": {},
   "outputs": [],
   "source": [
    "def predict(model,x_test,y_test):\n",
    "    y_pred = model.predict(x_test)\n",
    "    accuracy = 0\n",
    "    for i in range(y_pred.shape[0]):\n",
    "        if np.argmax(y_test[i]) == np.argmax(y_pred[i]):\n",
    "            accuracy += 1\n",
    "    accuracy /= x_test.shape[0]\n",
    "    return accuracy"
   ]
  },
  {
   "cell_type": "code",
   "execution_count": 8,
   "metadata": {},
   "outputs": [],
   "source": [
    "window_length = 10\n",
    "hop_length = 5\n",
    "n_windows =(1000-window_length) // hop_length + 1 "
   ]
  },
  {
   "cell_type": "code",
   "execution_count": 9,
   "metadata": {},
   "outputs": [],
   "source": [
    "def reshape(data): #by default data's dimesnion is 3\n",
    "    data_new = np.zeros((data.shape[0],n_windows,window_length*22)) #local variable\n",
    "    for i in range(data.shape[0]):\n",
    "        raw = data[i].transpose(1,0)\n",
    "        for j in range(n_windows):\n",
    "            data_new[i,j] = raw[j*hop_length:j*hop_length+window_length].flatten()\n",
    "    return data_new\n"
   ]
  },
  {
   "cell_type": "code",
   "execution_count": 10,
   "metadata": {},
   "outputs": [],
   "source": [
    "x_train = X_train_valid[:,:22,:].astype('float32')\n",
    "x_test = X_test[:,:22,:].astype('float32')\n",
    "\n",
    "y_train = y_train_valid\n",
    "y_test = y_test\n",
    "\n",
    "x_train = reshape(x_train)# (2115, 199, 220)\n",
    "x_test = reshape(x_test)# (443, 199, 220)"
   ]
  },
  {
   "cell_type": "code",
   "execution_count": 11,
   "metadata": {},
   "outputs": [
    {
     "name": "stdout",
     "output_type": "stream",
     "text": [
      "Train on 1692 samples, validate on 423 samples\n",
      "Epoch 1/100\n",
      "1692/1692 [==============================] - 16s 10ms/step - loss: 14.0123 - acc: 0.3050 - val_loss: 11.7773 - val_acc: 0.2624\n",
      "Epoch 2/100\n",
      "1692/1692 [==============================] - 16s 9ms/step - loss: 11.5823 - acc: 0.3877 - val_loss: 10.6608 - val_acc: 0.2884\n",
      "Epoch 3/100\n",
      "1692/1692 [==============================] - 22s 13ms/step - loss: 10.4822 - acc: 0.4291 - val_loss: 9.9065 - val_acc: 0.3168\n",
      "Epoch 4/100\n",
      "1692/1692 [==============================] - 21s 12ms/step - loss: 9.5301 - acc: 0.4929 - val_loss: 9.3135 - val_acc: 0.3121\n",
      "Epoch 5/100\n",
      "1692/1692 [==============================] - 22s 13ms/step - loss: 8.7899 - acc: 0.5183 - val_loss: 8.8308 - val_acc: 0.2931\n",
      "Epoch 6/100\n",
      "1692/1692 [==============================] - 22s 13ms/step - loss: 8.2711 - acc: 0.5325 - val_loss: 8.3420 - val_acc: 0.3286\n",
      "Epoch 7/100\n",
      "1692/1692 [==============================] - 22s 13ms/step - loss: 7.8665 - acc: 0.5514 - val_loss: 7.9959 - val_acc: 0.3333\n",
      "Epoch 8/100\n",
      "1692/1692 [==============================] - 21s 13ms/step - loss: 7.4112 - acc: 0.5916 - val_loss: 7.5917 - val_acc: 0.3499\n",
      "Epoch 9/100\n",
      "1692/1692 [==============================] - 21s 12ms/step - loss: 6.9553 - acc: 0.6158 - val_loss: 7.2739 - val_acc: 0.3475\n",
      "Epoch 10/100\n",
      "1692/1692 [==============================] - 20s 12ms/step - loss: 6.5990 - acc: 0.6194 - val_loss: 6.9671 - val_acc: 0.3617\n",
      "Epoch 11/100\n",
      "1692/1692 [==============================] - 20s 12ms/step - loss: 6.2098 - acc: 0.6513 - val_loss: 6.6031 - val_acc: 0.3546\n",
      "Epoch 12/100\n",
      "1692/1692 [==============================] - 20s 12ms/step - loss: 5.8719 - acc: 0.6596 - val_loss: 6.3801 - val_acc: 0.3452\n",
      "Epoch 13/100\n",
      "1692/1692 [==============================] - 20s 12ms/step - loss: 5.5298 - acc: 0.6826 - val_loss: 6.1352 - val_acc: 0.3404\n",
      "Epoch 14/100\n",
      "1692/1692 [==============================] - 20s 12ms/step - loss: 5.2435 - acc: 0.6856 - val_loss: 5.8739 - val_acc: 0.3452\n",
      "Epoch 15/100\n",
      "1692/1692 [==============================] - 21s 12ms/step - loss: 4.9473 - acc: 0.6903 - val_loss: 5.6174 - val_acc: 0.3641\n",
      "Epoch 16/100\n",
      "1692/1692 [==============================] - 19s 11ms/step - loss: 4.6571 - acc: 0.7033 - val_loss: 5.3228 - val_acc: 0.3783\n",
      "Epoch 17/100\n",
      "1692/1692 [==============================] - 20s 12ms/step - loss: 4.4291 - acc: 0.7139 - val_loss: 5.1186 - val_acc: 0.3759\n",
      "Epoch 18/100\n",
      "1692/1692 [==============================] - 19s 11ms/step - loss: 4.2052 - acc: 0.7187 - val_loss: 4.8828 - val_acc: 0.3806\n",
      "Epoch 19/100\n",
      "1692/1692 [==============================] - 19s 11ms/step - loss: 3.9409 - acc: 0.7394 - val_loss: 4.6198 - val_acc: 0.3783\n",
      "Epoch 20/100\n",
      "1692/1692 [==============================] - 19s 11ms/step - loss: 3.7238 - acc: 0.7453 - val_loss: 4.4373 - val_acc: 0.3972\n",
      "Epoch 21/100\n",
      "1692/1692 [==============================] - 19s 11ms/step - loss: 3.5207 - acc: 0.7405 - val_loss: 4.3391 - val_acc: 0.3901\n",
      "Epoch 22/100\n",
      "1692/1692 [==============================] - 19s 11ms/step - loss: 3.3431 - acc: 0.7571 - val_loss: 4.1693 - val_acc: 0.3664\n",
      "Epoch 23/100\n",
      "1692/1692 [==============================] - 19s 11ms/step - loss: 3.1816 - acc: 0.7506 - val_loss: 3.9926 - val_acc: 0.4043\n",
      "Epoch 24/100\n",
      "1692/1692 [==============================] - 19s 11ms/step - loss: 3.0541 - acc: 0.7417 - val_loss: 3.8245 - val_acc: 0.3759\n",
      "Epoch 25/100\n",
      "1692/1692 [==============================] - 19s 11ms/step - loss: 2.8981 - acc: 0.7630 - val_loss: 3.7388 - val_acc: 0.3806\n",
      "Epoch 26/100\n",
      "1692/1692 [==============================] - 19s 11ms/step - loss: 2.7785 - acc: 0.7394 - val_loss: 3.6414 - val_acc: 0.3924\n",
      "Epoch 27/100\n",
      "1692/1692 [==============================] - 19s 11ms/step - loss: 2.6422 - acc: 0.7547 - val_loss: 3.5432 - val_acc: 0.3901\n",
      "Epoch 28/100\n",
      "1692/1692 [==============================] - 19s 11ms/step - loss: 2.5154 - acc: 0.7689 - val_loss: 3.3677 - val_acc: 0.3924\n",
      "Epoch 29/100\n",
      "1692/1692 [==============================] - 19s 11ms/step - loss: 2.3516 - acc: 0.7784 - val_loss: 3.2771 - val_acc: 0.3735\n",
      "Epoch 30/100\n",
      "1692/1692 [==============================] - 19s 11ms/step - loss: 2.2237 - acc: 0.7949 - val_loss: 3.1697 - val_acc: 0.3806\n",
      "Epoch 31/100\n",
      "1692/1692 [==============================] - 20s 12ms/step - loss: 2.1445 - acc: 0.7908 - val_loss: 3.0878 - val_acc: 0.4066\n",
      "Epoch 32/100\n",
      "1692/1692 [==============================] - 21s 12ms/step - loss: 2.0698 - acc: 0.7908 - val_loss: 3.0288 - val_acc: 0.4161\n",
      "Epoch 33/100\n",
      "1692/1692 [==============================] - 20s 12ms/step - loss: 2.0200 - acc: 0.7742 - val_loss: 2.9058 - val_acc: 0.3901\n",
      "Epoch 34/100\n",
      "1692/1692 [==============================] - 20s 12ms/step - loss: 1.9599 - acc: 0.7807 - val_loss: 2.8899 - val_acc: 0.3877\n",
      "Epoch 35/100\n",
      "1692/1692 [==============================] - 20s 12ms/step - loss: 1.9717 - acc: 0.7654 - val_loss: 2.8223 - val_acc: 0.3712\n",
      "Epoch 36/100\n",
      "1692/1692 [==============================] - 21s 12ms/step - loss: 1.8689 - acc: 0.7837 - val_loss: 2.7588 - val_acc: 0.3901\n",
      "Epoch 37/100\n",
      "1692/1692 [==============================] - 21s 12ms/step - loss: 1.8095 - acc: 0.7778 - val_loss: 2.6832 - val_acc: 0.3948\n",
      "Epoch 38/100\n",
      "1692/1692 [==============================] - 21s 12ms/step - loss: 1.6927 - acc: 0.7878 - val_loss: 2.6789 - val_acc: 0.3735\n",
      "Epoch 39/100\n",
      "1692/1692 [==============================] - 20s 12ms/step - loss: 1.6743 - acc: 0.7849 - val_loss: 2.6991 - val_acc: 0.3995\n",
      "Epoch 40/100\n",
      "1692/1692 [==============================] - 20s 12ms/step - loss: 1.6160 - acc: 0.7931 - val_loss: 2.5716 - val_acc: 0.3995\n",
      "Epoch 41/100\n",
      "1692/1692 [==============================] - 20s 12ms/step - loss: 1.5220 - acc: 0.8132 - val_loss: 2.5298 - val_acc: 0.3853\n",
      "Epoch 42/100\n",
      "1692/1692 [==============================] - 21s 12ms/step - loss: 1.5177 - acc: 0.7991 - val_loss: 2.5376 - val_acc: 0.3712\n",
      "Epoch 43/100\n",
      "1692/1692 [==============================] - 21s 12ms/step - loss: 1.5134 - acc: 0.7831 - val_loss: 2.4406 - val_acc: 0.3806\n",
      "Epoch 44/100\n",
      "1692/1692 [==============================] - 22s 13ms/step - loss: 1.4578 - acc: 0.8044 - val_loss: 2.3450 - val_acc: 0.4161\n",
      "Epoch 45/100\n",
      "1692/1692 [==============================] - 22s 13ms/step - loss: 1.4172 - acc: 0.8073 - val_loss: 2.4380 - val_acc: 0.4161\n",
      "Epoch 46/100\n",
      "1692/1692 [==============================] - 21s 12ms/step - loss: 1.3953 - acc: 0.8020 - val_loss: 2.3758 - val_acc: 0.4090\n",
      "Epoch 47/100\n",
      "1692/1692 [==============================] - 22s 13ms/step - loss: 1.4424 - acc: 0.7837 - val_loss: 2.3451 - val_acc: 0.4137\n",
      "Epoch 48/100\n",
      "1692/1692 [==============================] - 22s 13ms/step - loss: 1.3717 - acc: 0.7949 - val_loss: 2.4036 - val_acc: 0.3901\n",
      "Epoch 49/100\n",
      "1692/1692 [==============================] - 20s 12ms/step - loss: 1.3720 - acc: 0.7878 - val_loss: 2.3450 - val_acc: 0.3924\n",
      "Epoch 50/100\n",
      "1692/1692 [==============================] - 20s 12ms/step - loss: 1.3803 - acc: 0.7843 - val_loss: 2.3314 - val_acc: 0.3901\n",
      "Epoch 51/100\n",
      "1692/1692 [==============================] - 20s 12ms/step - loss: 1.3323 - acc: 0.7973 - val_loss: 2.3535 - val_acc: 0.3853\n",
      "Epoch 52/100\n",
      "1692/1692 [==============================] - 20s 12ms/step - loss: 1.2876 - acc: 0.8056 - val_loss: 2.4707 - val_acc: 0.3806\n",
      "Epoch 53/100\n",
      "1692/1692 [==============================] - 20s 12ms/step - loss: 1.2900 - acc: 0.8038 - val_loss: 2.3554 - val_acc: 0.3901\n",
      "Epoch 54/100\n",
      "1692/1692 [==============================] - 20s 12ms/step - loss: 1.2357 - acc: 0.8209 - val_loss: 2.3096 - val_acc: 0.3641\n",
      "Epoch 55/100\n",
      "1692/1692 [==============================] - 20s 12ms/step - loss: 1.2187 - acc: 0.8085 - val_loss: 2.2583 - val_acc: 0.3735\n",
      "Epoch 56/100\n",
      "1692/1692 [==============================] - 20s 12ms/step - loss: 1.1943 - acc: 0.8150 - val_loss: 2.2685 - val_acc: 0.3972\n",
      "Epoch 57/100\n",
      "1692/1692 [==============================] - 21s 13ms/step - loss: 1.2408 - acc: 0.8056 - val_loss: 2.2627 - val_acc: 0.4043\n",
      "Epoch 58/100\n",
      "1692/1692 [==============================] - 22s 13ms/step - loss: 1.2621 - acc: 0.7801 - val_loss: 2.2506 - val_acc: 0.3901\n",
      "Epoch 59/100\n",
      "1692/1692 [==============================] - 22s 13ms/step - loss: 1.2212 - acc: 0.7920 - val_loss: 2.2069 - val_acc: 0.3783\n",
      "Epoch 60/100\n"
     ]
    },
    {
     "name": "stdout",
     "output_type": "stream",
     "text": [
      "1692/1692 [==============================] - 21s 12ms/step - loss: 1.2323 - acc: 0.7961 - val_loss: 2.2677 - val_acc: 0.3877\n",
      "Epoch 61/100\n",
      "1692/1692 [==============================] - 21s 12ms/step - loss: 1.1540 - acc: 0.8180 - val_loss: 2.2218 - val_acc: 0.4066\n",
      "Epoch 62/100\n",
      "1692/1692 [==============================] - 20s 12ms/step - loss: 1.1799 - acc: 0.8085 - val_loss: 2.3678 - val_acc: 0.3877\n",
      "Epoch 63/100\n",
      "1692/1692 [==============================] - 20s 12ms/step - loss: 1.1594 - acc: 0.8109 - val_loss: 2.3162 - val_acc: 0.3924\n",
      "Epoch 64/100\n",
      "1692/1692 [==============================] - 20s 12ms/step - loss: 1.1570 - acc: 0.8073 - val_loss: 2.2320 - val_acc: 0.4090\n",
      "Epoch 65/100\n",
      "1692/1692 [==============================] - 20s 12ms/step - loss: 1.1269 - acc: 0.8251 - val_loss: 2.2862 - val_acc: 0.3806\n",
      "Epoch 66/100\n",
      "1692/1692 [==============================] - 20s 12ms/step - loss: 1.1284 - acc: 0.8121 - val_loss: 2.2213 - val_acc: 0.3806\n",
      "Epoch 67/100\n",
      "1692/1692 [==============================] - 20s 12ms/step - loss: 1.1667 - acc: 0.8109 - val_loss: 2.1900 - val_acc: 0.3901\n",
      "Epoch 68/100\n",
      "1692/1692 [==============================] - 20s 12ms/step - loss: 1.1177 - acc: 0.8156 - val_loss: 2.1431 - val_acc: 0.3995\n",
      "Epoch 69/100\n",
      "1692/1692 [==============================] - 20s 12ms/step - loss: 1.0823 - acc: 0.8245 - val_loss: 2.1275 - val_acc: 0.3830\n",
      "Epoch 70/100\n",
      "1692/1692 [==============================] - 20s 12ms/step - loss: 1.1091 - acc: 0.8103 - val_loss: 2.2101 - val_acc: 0.3948\n",
      "Epoch 71/100\n",
      "1692/1692 [==============================] - 20s 12ms/step - loss: 1.0962 - acc: 0.8197 - val_loss: 2.1673 - val_acc: 0.4066\n",
      "Epoch 72/100\n",
      "1692/1692 [==============================] - 21s 13ms/step - loss: 1.1275 - acc: 0.8091 - val_loss: 2.2359 - val_acc: 0.3877\n",
      "Epoch 73/100\n",
      "1692/1692 [==============================] - 22s 13ms/step - loss: 1.1377 - acc: 0.7914 - val_loss: 2.2868 - val_acc: 0.3901\n",
      "Epoch 74/100\n",
      "1692/1692 [==============================] - 21s 13ms/step - loss: 1.1101 - acc: 0.8073 - val_loss: 2.1500 - val_acc: 0.3995\n",
      "Epoch 75/100\n",
      "1692/1692 [==============================] - 21s 12ms/step - loss: 1.1090 - acc: 0.8144 - val_loss: 2.1608 - val_acc: 0.4232\n",
      "Epoch 76/100\n",
      "1692/1692 [==============================] - 21s 12ms/step - loss: 1.0919 - acc: 0.8215 - val_loss: 2.1847 - val_acc: 0.3759\n",
      "Epoch 77/100\n",
      "1692/1692 [==============================] - 22s 13ms/step - loss: 1.0840 - acc: 0.8233 - val_loss: 2.2628 - val_acc: 0.3641\n",
      "Epoch 78/100\n",
      "1692/1692 [==============================] - 22s 13ms/step - loss: 1.0883 - acc: 0.8257 - val_loss: 2.1776 - val_acc: 0.4113\n",
      "Epoch 79/100\n",
      "1692/1692 [==============================] - 22s 13ms/step - loss: 1.0986 - acc: 0.8121 - val_loss: 2.2081 - val_acc: 0.4090\n",
      "Epoch 80/100\n",
      "1692/1692 [==============================] - 22s 13ms/step - loss: 1.1260 - acc: 0.8044 - val_loss: 2.1868 - val_acc: 0.4208\n",
      "Epoch 81/100\n",
      "1692/1692 [==============================] - 21s 13ms/step - loss: 1.1157 - acc: 0.8174 - val_loss: 2.1326 - val_acc: 0.4208\n",
      "Epoch 82/100\n",
      "1692/1692 [==============================] - 22s 13ms/step - loss: 1.0718 - acc: 0.8245 - val_loss: 2.2166 - val_acc: 0.4043\n",
      "Epoch 83/100\n",
      "1692/1692 [==============================] - 22s 13ms/step - loss: 1.0690 - acc: 0.8268 - val_loss: 2.2382 - val_acc: 0.3972\n",
      "Epoch 84/100\n",
      "1692/1692 [==============================] - 22s 13ms/step - loss: 1.0337 - acc: 0.8327 - val_loss: 2.2604 - val_acc: 0.3995\n",
      "Epoch 85/100\n",
      "1692/1692 [==============================] - 22s 13ms/step - loss: 1.0670 - acc: 0.8274 - val_loss: 2.2688 - val_acc: 0.3688\n",
      "Epoch 86/100\n",
      "1692/1692 [==============================] - 21s 12ms/step - loss: 1.0580 - acc: 0.8233 - val_loss: 2.2051 - val_acc: 0.3877\n",
      "Epoch 87/100\n",
      "1692/1692 [==============================] - 22s 13ms/step - loss: 1.0190 - acc: 0.8369 - val_loss: 2.1762 - val_acc: 0.3877\n",
      "Epoch 88/100\n",
      "1692/1692 [==============================] - 22s 13ms/step - loss: 1.0273 - acc: 0.8410 - val_loss: 2.1625 - val_acc: 0.3853\n",
      "Epoch 89/100\n",
      "1692/1692 [==============================] - 22s 13ms/step - loss: 1.0371 - acc: 0.8339 - val_loss: 2.3037 - val_acc: 0.3877\n",
      "Epoch 90/100\n",
      "1692/1692 [==============================] - 21s 13ms/step - loss: 1.0615 - acc: 0.8209 - val_loss: 2.2295 - val_acc: 0.3995\n",
      "Epoch 91/100\n",
      "1692/1692 [==============================] - 22s 13ms/step - loss: 1.0667 - acc: 0.8257 - val_loss: 2.3796 - val_acc: 0.3617\n",
      "Epoch 92/100\n",
      "1692/1692 [==============================] - 22s 13ms/step - loss: 1.0947 - acc: 0.8085 - val_loss: 2.2958 - val_acc: 0.3783\n",
      "Epoch 93/100\n",
      "1692/1692 [==============================] - 22s 13ms/step - loss: 1.0907 - acc: 0.8209 - val_loss: 2.3326 - val_acc: 0.3593\n",
      "Epoch 94/100\n",
      "1692/1692 [==============================] - 22s 13ms/step - loss: 1.1095 - acc: 0.8126 - val_loss: 2.3076 - val_acc: 0.3712\n",
      "Epoch 95/100\n",
      "1692/1692 [==============================] - 24s 14ms/step - loss: 1.0884 - acc: 0.8215 - val_loss: 2.2671 - val_acc: 0.3830\n",
      "Epoch 96/100\n",
      "1692/1692 [==============================] - 22s 13ms/step - loss: 1.1274 - acc: 0.8115 - val_loss: 2.2817 - val_acc: 0.3972\n",
      "Epoch 97/100\n",
      "1692/1692 [==============================] - 23s 13ms/step - loss: 1.1119 - acc: 0.8144 - val_loss: 2.2038 - val_acc: 0.3995\n",
      "Epoch 98/100\n",
      "1692/1692 [==============================] - 24s 14ms/step - loss: 1.1350 - acc: 0.8056 - val_loss: 2.1968 - val_acc: 0.3924\n",
      "Epoch 99/100\n",
      "1692/1692 [==============================] - 22s 13ms/step - loss: 1.1113 - acc: 0.8115 - val_loss: 2.2121 - val_acc: 0.3972\n",
      "Epoch 100/100\n",
      "1692/1692 [==============================] - 22s 13ms/step - loss: 1.0514 - acc: 0.8416 - val_loss: 2.2356 - val_acc: 0.3664\n"
     ]
    },
    {
     "data": {
      "image/png": "[encoded data removed]",
      "text/plain": [
       "<Figure size 432x288 with 1 Axes>"
      ]
     },
     "metadata": {
      "needs_background": "light"
     },
     "output_type": "display_data"
    },
    {
     "data": {
      "image/png": "[encoded data removed]",
      "text/plain": [
       "<Figure size 432x288 with 1 Axes>"
      ]
     },
     "metadata": {
      "needs_background": "light"
     },
     "output_type": "display_data"
    },
    {
     "name": "stdout",
     "output_type": "stream",
     "text": [
      "0.39503386004514673\n",
      "Model: \"sequential_1\"\n",
      "_________________________________________________________________\n",
      "Layer (type)                 Output Shape              Param #   \n",
      "=================================================================\n",
      "bidirectional_1 (Bidirection (None, 199, 256)          357376    \n",
      "_________________________________________________________________\n",
      "batch_normalization_1 (Batch (None, 199, 256)          1024      \n",
      "_________________________________________________________________\n",
      "dropout_1 (Dropout)          (None, 199, 256)          0         \n",
      "_________________________________________________________________\n",
      "flatten_1 (Flatten)          (None, 50944)             0         \n",
      "_________________________________________________________________\n",
      "dropout_2 (Dropout)          (None, 50944)             0         \n",
      "_________________________________________________________________\n",
      "dense_1 (Dense)              (None, 32)                1630240   \n",
      "_________________________________________________________________\n",
      "dropout_3 (Dropout)          (None, 32)                0         \n",
      "_________________________________________________________________\n",
      "dense_2 (Dense)              (None, 4)                 132       \n",
      "=================================================================\n",
      "Total params: 1,988,772\n",
      "Trainable params: 1,988,260\n",
      "Non-trainable params: 512\n",
      "_________________________________________________________________\n"
     ]
    }
   ],
   "source": [
    "def RNN(x_train,y_train,x_test,y_test):\n",
    "    train_example = x_train\n",
    "    test_example = x_test\n",
    "    train_target = keras.utils.to_categorical(y_train, 4)\n",
    "    test_target = keras.utils.to_categorical(y_test, 4)\n",
    "    \n",
    "    model = rnn(train_example[0].shape)\n",
    "    model = train(model,train_example,train_target,test_example,test_target)\n",
    "    acc = predict(model,test_example,test_target)\n",
    "    print(acc)\n",
    "    model.summary()\n",
    "    return acc\n",
    "\n",
    "acc = RNN(x_train,y_train,x_test,y_test)"
   ]
  },
  {
   "cell_type": "code",
   "execution_count": null,
   "metadata": {},
   "outputs": [],
   "source": []
  },
  {
   "cell_type": "code",
   "execution_count": null,
   "metadata": {},
   "outputs": [],
   "source": []
  },
  {
   "cell_type": "code",
   "execution_count": null,
   "metadata": {},
   "outputs": [],
   "source": []
  },
  {
   "cell_type": "code",
   "execution_count": null,
   "metadata": {},
   "outputs": [],
   "source": []
  },
  {
   "cell_type": "code",
   "execution_count": null,
   "metadata": {},
   "outputs": [],
   "source": []
  },
  {
   "cell_type": "code",
   "execution_count": null,
   "metadata": {},
   "outputs": [],
   "source": []
  },
  {
   "cell_type": "code",
   "execution_count": null,
   "metadata": {},
   "outputs": [],
   "source": []
  }
 ],
 "metadata": {
  "kernelspec": {
   "display_name": "Python 3",
   "language": "python",
   "name": "python3"
  },
  "language_info": {
   "codemirror_mode": {
    "name": "ipython",
    "version": 3
   },
   "file_extension": ".py",
   "mimetype": "text/x-python",
   "name": "python",
   "nbconvert_exporter": "python",
   "pygments_lexer": "ipython3",
   "version": "3.7.3"
  }
 },
 "nbformat": 4,
 "nbformat_minor": 2
}
