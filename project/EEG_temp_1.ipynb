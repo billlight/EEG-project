{
 "cells": [
  {
   "cell_type": "code",
   "execution_count": 1,
   "metadata": {},
   "outputs": [],
   "source": [
    "import numpy as np\n",
    "X_test = np.load(\"X_test.npy\")\n",
    "y_test = np.load(\"y_test.npy\")\n",
    "person_train_valid = np.load(\"person_train_valid.npy\")\n",
    "X_train_valid = np.load(\"X_train_valid.npy\")\n",
    "y_train_valid = np.load(\"y_train_valid.npy\")\n",
    "person_test = np.load(\"person_test.npy\")"
   ]
  },
  {
   "cell_type": "code",
   "execution_count": 2,
   "metadata": {},
   "outputs": [
    {
     "name": "stdout",
     "output_type": "stream",
     "text": [
      "Training/Valid data shape: (2115, 22, 1000)\n",
      "Test data shape: (443, 22, 1000)\n",
      "Training/Valid target shape: (2115,)\n",
      "Test target shape: (443,)\n",
      "Person train/valid shape: (2115, 1)\n",
      "Person test shape: (443, 1)\n"
     ]
    }
   ],
   "source": [
    "print ('Training/Valid data shape: {}'.format(X_train_valid.shape))\n",
    "print ('Test data shape: {}'.format(X_test.shape))\n",
    "print ('Training/Valid target shape: {}'.format(y_train_valid.shape))\n",
    "print ('Test target shape: {}'.format(y_test.shape))\n",
    "print ('Person train/valid shape: {}'.format(person_train_valid.shape))\n",
    "print ('Person test shape: {}'.format(person_test.shape))"
   ]
  },
  {
   "cell_type": "code",
   "execution_count": 3,
   "metadata": {},
   "outputs": [],
   "source": [
    "for i in range(len(y_train_valid)):\n",
    "    if(y_train_valid[i] == 769):\n",
    "        y_train_valid[i] = 0\n",
    "    if(y_train_valid[i] == 770):\n",
    "        y_train_valid[i] = 1\n",
    "    if(y_train_valid[i] == 771):\n",
    "        y_train_valid[i] = 2\n",
    "    if(y_train_valid[i] == 772):\n",
    "        y_train_valid[i] = 3"
   ]
  },
  {
   "cell_type": "code",
   "execution_count": 4,
   "metadata": {},
   "outputs": [],
   "source": [
    "for i in range(len(y_test)):\n",
    "    if(y_test[i] == 769):\n",
    "        y_test[i] = 0\n",
    "    if(y_test[i] == 770):\n",
    "        y_test[i] = 1\n",
    "    if(y_test[i] == 771):\n",
    "        y_test[i] = 2\n",
    "    if(y_test[i] == 772):\n",
    "        y_test[i] = 3"
   ]
  },
  {
   "cell_type": "code",
   "execution_count": 5,
   "metadata": {},
   "outputs": [],
   "source": [
    "import torch\n",
    "import torch.nn as nn\n",
    "import torch.nn.functional as F\n",
    "import torch.optim as optim"
   ]
  },
  {
   "cell_type": "code",
   "execution_count": 6,
   "metadata": {},
   "outputs": [
    {
     "name": "stdout",
     "output_type": "stream",
     "text": [
      "cuda:0\n"
     ]
    }
   ],
   "source": [
    "device = torch.device(\"cuda:0\" if torch.cuda.is_available() else \"cpu\")\n",
    "datatype = torch.float\n",
    "torch.cuda.device(device)\n",
    "print(device)"
   ]
  },
  {
   "cell_type": "code",
   "execution_count": 7,
   "metadata": {},
   "outputs": [],
   "source": [
    "class CNN(nn.Module):\n",
    "    def __init__(self):\n",
    "        super(CNN, self).__init__()\n",
    "        self.conv1 = nn.Sequential(\n",
    "            nn.Conv2d(1, 16, (1, 5)),\n",
    "            nn.BatchNorm2d(16)) \n",
    "        self.conv2 = nn.Sequential(\n",
    "            nn.Conv2d(16, 16, (22, 1)),\n",
    "            nn.ELU(),\n",
    "            nn.Dropout2d(0.2),\n",
    "            nn.MaxPool2d(1, 3))\n",
    "        self.conv3 = nn.Sequential(\n",
    "            nn.Conv2d(16, 32, (1, 5)),\n",
    "            nn.ELU(),\n",
    "            nn.Dropout2d(0.2),\n",
    "            nn.MaxPool2d(1, 3))\n",
    "        self.conv4 = nn.Sequential(\n",
    "            nn.Conv2d(32, 64, (1, 5)),\n",
    "            nn.ELU(),\n",
    "            nn.Dropout2d(0.2),\n",
    "            nn.MaxPool2d(1, 3))   \n",
    "        self.conv5 = nn.Sequential(\n",
    "            nn.Conv2d(64, 128, (1, 5)),\n",
    "            nn.ELU(),\n",
    "            nn.Dropout2d(0.2),\n",
    "            nn.MaxPool2d(1, 3)) \n",
    "        self.conv6 = nn.Sequential(\n",
    "            nn.Conv2d(128, 256, (1, 5)),\n",
    "            nn.ELU(),\n",
    "            nn.Dropout2d(0.2),\n",
    "            nn.MaxPool2d(1, 3))\n",
    "        self.fc1 = nn.Sequential(\n",
    "            nn.Linear(256*3, 128),\n",
    "            nn.ELU(),\n",
    "            nn.Dropout())\n",
    "        self.fc2 = nn.Sequential(\n",
    "            nn.Linear(128, 64),\n",
    "            nn.ELU(),\n",
    "            nn.Dropout()) \n",
    "        self.fc3 = nn.Sequential(\n",
    "            nn.Linear(64, 20),\n",
    "            nn.ELU(),\n",
    "            nn.Dropout()) \n",
    "        self.fc4 = nn.Sequential(\n",
    "            nn.Linear(20, 4),\n",
    "            nn.ELU(),\n",
    "            nn.Dropout()) \n",
    "        self.softmax = nn.Softmax(1)\n",
    "    def forward(self, x):\n",
    "        x = self.conv1(x)\n",
    "        x = self.conv2(x)\n",
    "        x = self.conv3(x)\n",
    "        x = self.conv4(x)\n",
    "        x = self.conv5(x)\n",
    "        x = self.conv6(x)\n",
    "        x = x.view(x.size(0), -1)\n",
    "        x = self.fc1(x)\n",
    "        x = self.fc2(x)\n",
    "        x = self.fc3(x)\n",
    "        x = self.fc4(x)        \n",
    "        x = self.softmax(x)\n",
    "        return x"
   ]
  },
  {
   "cell_type": "code",
   "execution_count": 8,
   "metadata": {},
   "outputs": [],
   "source": [
    "cnn = CNN().to(device)"
   ]
  },
  {
   "cell_type": "code",
   "execution_count": 10,
   "metadata": {},
   "outputs": [],
   "source": [
    "lr = 1e-3\n",
    "#lr_decay = 0.6\n",
    "weight_decay = 1e-2\n",
    "criterion = nn.CrossEntropyLoss()\n",
    "optimizer = optim.Adam(cnn.parameters(), lr=lr, weight_decay=weight_decay)"
   ]
  },
  {
   "cell_type": "code",
   "execution_count": 11,
   "metadata": {},
   "outputs": [],
   "source": [
    "from sklearn.model_selection import KFold\n",
    "kf = KFold(n_splits = 4)"
   ]
  },
  {
   "cell_type": "code",
   "execution_count": null,
   "metadata": {},
   "outputs": [
    {
     "name": "stdout",
     "output_type": "stream",
     "text": [
      "epoch_loss ------------ 1.3861589349508285\n",
      "0.25442666666666675\n",
      "epoch_loss ------------ 1.3861545501947403\n",
      "0.25431333333333317\n",
      "epoch_loss ------------ 1.3861637066602708\n",
      "0.2541711111111102\n",
      "epoch_loss ------------ 1.3861719084084034\n",
      "0.25423583333333194\n",
      "epoch_loss ------------ 1.3861047860383988\n",
      "0.2564399999999997\n"
     ]
    }
   ],
   "source": [
    "batch_size = 300\n",
    "num_iters = 1000\n",
    "num_epoch = 2500\n",
    "for epoch in range(num_epoch):\n",
    "    batch_losses = []\n",
    "    batch_accuracies = []\n",
    "    for train_index, valid_index in kf.split(X_train_valid):\n",
    "        X_train_cur = torch.tensor(X_train_valid[train_index].reshape(X_train_valid[train_index].shape[0], -1, 22, 1000), dtype=torch.float).to(device)\n",
    "        X_valid_cur = torch.tensor(X_train_valid[valid_index].reshape(X_train_valid[valid_index].shape[0], -1, 22, 1000), dtype=torch.float).to(device)\n",
    "        y_train_cur = torch.tensor(y_train_valid[train_index], dtype=torch.long).to(device)\n",
    "        y_valid_cur = torch.tensor(y_train_valid[valid_index], dtype=torch.long).to(device)\n",
    "        for it in np.arange(num_iters):\n",
    "            X_batch = None\n",
    "            y_batch = None\n",
    "            num_total = 0\n",
    "            index = np.random.choice(X_train_cur.shape[0], batch_size)\n",
    "            X_batch = X_train_cur[index, :, :, :]\n",
    "            y_batch = y_train_cur[index]\n",
    "            optimizer.zero_grad()\n",
    "            outputs = cnn(X_batch)\n",
    "            loss = criterion(outputs, y_batch)\n",
    "            loss.backward()\n",
    "            optimizer.step()\n",
    "            batch_losses.append(loss.item())\n",
    "            predictions = torch.argmax(outputs, axis=1)\n",
    "            accuracy = predictions.eq(y_batch).sum().item()\n",
    "            num_total += y_batch.numel()\n",
    "            batch_accuracies.append(accuracy/num_total)\n",
    "        epoch_loss = sum(batch_losses) * 1.0 / len(batch_losses)\n",
    "        epoch_accuracies = sum(batch_accuracies) * 1.0 / len(batch_accuracies)\n",
    "        print(\"epoch_loss ------------\",epoch_loss)\n",
    "        print(epoch_accuracies)"
   ]
  },
  {
   "cell_type": "code",
   "execution_count": 12,
   "metadata": {},
   "outputs": [],
   "source": [
    "loss = nn.CrossEntropyLoss()\n",
    "input = torch.randn(3, 5, requires_grad=True)\n",
    "target = torch.empty(3, dtype=torch.long).random_(5)\n",
    "output = loss(input, target)\n",
    "output.backward()"
   ]
  },
  {
   "cell_type": "code",
   "execution_count": 14,
   "metadata": {},
   "outputs": [
    {
     "data": {
      "text/plain": [
       "tensor([[-1.0461,  0.2344,  2.2854,  1.1900, -0.5248],\n",
       "        [-0.7498, -1.6367, -0.7026,  0.7583,  0.3610],\n",
       "        [-0.8665,  1.6873, -0.1423, -0.2629,  1.3782]], requires_grad=True)"
      ]
     },
     "execution_count": 14,
     "metadata": {},
     "output_type": "execute_result"
    }
   ],
   "source": [
    "input"
   ]
  },
  {
   "cell_type": "code",
   "execution_count": null,
   "metadata": {},
   "outputs": [],
   "source": []
  }
 ],
 "metadata": {
  "kernelspec": {
   "display_name": "Python 3",
   "language": "python",
   "name": "python3"
  },
  "language_info": {
   "codemirror_mode": {
    "name": "ipython",
    "version": 3
   },
   "file_extension": ".py",
   "mimetype": "text/x-python",
   "name": "python",
   "nbconvert_exporter": "python",
   "pygments_lexer": "ipython3",
   "version": "3.7.3"
  }
 },
 "nbformat": 4,
 "nbformat_minor": 2
}
